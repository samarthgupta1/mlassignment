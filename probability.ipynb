{
 "cells": [
  {
   "cell_type": "code",
   "execution_count": 4,
   "metadata": {},
   "outputs": [
    {
     "name": "stdout",
     "output_type": "stream",
     "text": [
      "0.009130000000000001\n",
      "0.0299344262295082\n"
     ]
    }
   ],
   "source": [
    "print  (\"QUESTION 1\")\n",
    "#QUESTION 1\n",
    "def prob(a,s,d):\n",
    "    w=s*d\n",
    "    print(w)\n",
    "    z=w/a\n",
    "    print (z)\n",
    "    \n",
    "prob(0.305,0.166,0.055)\n",
    "\n"
   ]
  },
  {
   "cell_type": "code",
   "execution_count": 6,
   "metadata": {},
   "outputs": [
    {
     "name": "stdout",
     "output_type": "stream",
     "text": [
      "QUESTION 2\n",
      "probability that it was black ball drawn fron bag1 : 0.588\n"
     ]
    }
   ],
   "source": [
    "print  (\"QUESTION 2\")\n",
    "#QUESTION 2\n",
    "print (\"probability that it was black ball drawn fron bag1 :\",0.588)"
   ]
  },
  {
   "cell_type": "code",
   "execution_count": 7,
   "metadata": {},
   "outputs": [
    {
     "name": "stdout",
     "output_type": "stream",
     "text": [
      "QUESTION 3\n",
      "probability that no obtained is 4 : 0.3333\n"
     ]
    }
   ],
   "source": [
    "print  (\"QUESTION 3\")\n",
    "#QUESTION 3\n",
    "print (\"probability that no obtained is 4 :\",0.3333)"
   ]
  },
  {
   "cell_type": "code",
   "execution_count": null,
   "metadata": {},
   "outputs": [],
   "source": []
  }
 ],
 "metadata": {
  "kernelspec": {
   "display_name": "Python 3",
   "language": "python",
   "name": "python3"
  },
  "language_info": {
   "codemirror_mode": {
    "name": "ipython",
    "version": 3
   },
   "file_extension": ".py",
   "mimetype": "text/x-python",
   "name": "python",
   "nbconvert_exporter": "python",
   "pygments_lexer": "ipython3",
   "version": "3.6.5"
  }
 },
 "nbformat": 4,
 "nbformat_minor": 2
}
